{
 "cells": [
  {
   "cell_type": "code",
   "execution_count": 1,
   "metadata": {},
   "outputs": [],
   "source": [
    "import numpy as np\n",
    "import tensorflow as tf\n",
    "from sklearn.model_selection import train_test_split\n",
    "from sklearn.preprocessing import StandardScaler\n",
    "from scipy.ndimage import affine_transform\n",
    "from sklearn.neighbors import KNeighborsClassifier"
   ]
  },
  {
   "cell_type": "code",
   "execution_count": 2,
   "metadata": {},
   "outputs": [],
   "source": [
    "\n",
    "# Load MNIST dataset\n",
    "def load_mnist():\n",
    "    (x_train, y_train), (x_test, y_test) = tf.keras.datasets.mnist.load_data()\n",
    "    x_train, x_test = x_train / 255.0, x_test / 255.0  # Normalize to [0,1]\n",
    "    return x_train, y_train, x_test, y_test\n",
    "\n",
    "# Apply non-linear deformation and shiftable edges\n",
    "def apply_deformation(images):\n",
    "    transformed_images = []\n",
    "    for img in images:\n",
    "        # Generate a small random affine transformation matrix\n",
    "        matrix = np.array([[1 + np.random.uniform(-0.2, 0.2), np.random.uniform(-0.2, 0.2), 0],\n",
    "                           [np.random.uniform(-0.2, 0.2), 1 + np.random.uniform(-0.2, 0.2), 0],\n",
    "                           [0, 0, 1]])\n",
    "        transformed_img = affine_transform(img, matrix[:2, :2], offset=matrix[:2, 2], mode='constant', cval=0.0)\n",
    "        transformed_images.append(transformed_img)\n",
    "    return np.array(transformed_images)\n",
    "\n",
    "# Preprocess data\n",
    "def preprocess_data():\n",
    "    x_train, y_train, x_test, y_test = load_mnist()\n",
    "    x_train = apply_deformation(x_train)\n",
    "    x_test = apply_deformation(x_test)\n",
    "    \n",
    "    # Flatten images\n",
    "    x_train = x_train.reshape(len(x_train), -1)\n",
    "    x_test = x_test.reshape(len(x_test), -1)\n",
    "    \n",
    "    # Standardize the dataset\n",
    "    scaler = StandardScaler()\n",
    "    x_train = scaler.fit_transform(x_train)\n",
    "    x_test = scaler.transform(x_test)\n",
    "    \n",
    "    return x_train, y_train, x_test, y_test\n",
    "\n",
    "# Train KNN classifier\n",
    "def train_knn(x_train, y_train, k=3):\n",
    "    knn = KNeighborsClassifier(n_neighbors=k, n_jobs=-1)\n",
    "    knn.fit(x_train, y_train)\n",
    "    return knn\n",
    "\n",
    "# Evaluate the model\n",
    "def evaluate_model(knn, x_test, y_test):\n",
    "    accuracy = knn.score(x_test, y_test)\n",
    "    print(f\"Test Accuracy: {accuracy:.4f}\")\n",
    "    return accuracy"
   ]
  },
  {
   "cell_type": "code",
   "execution_count": 3,
   "metadata": {},
   "outputs": [
    {
     "name": "stderr",
     "output_type": "stream",
     "text": [
      "c:\\Users\\noams\\anaconda3\\envs\\knn_env\\lib\\site-packages\\joblib\\externals\\loky\\backend\\context.py:136: UserWarning: Could not find the number of physical cores for the following reason:\n",
      "[WinError 2] The system cannot find the file specified\n",
      "Returning the number of logical cores instead. You can silence this warning by setting LOKY_MAX_CPU_COUNT to the number of cores you want to use.\n",
      "  warnings.warn(\n",
      "  File \"c:\\Users\\noams\\anaconda3\\envs\\knn_env\\lib\\site-packages\\joblib\\externals\\loky\\backend\\context.py\", line 257, in _count_physical_cores\n",
      "    cpu_info = subprocess.run(\n",
      "  File \"c:\\Users\\noams\\anaconda3\\envs\\knn_env\\lib\\subprocess.py\", line 503, in run\n",
      "    with Popen(*popenargs, **kwargs) as process:\n",
      "  File \"c:\\Users\\noams\\anaconda3\\envs\\knn_env\\lib\\subprocess.py\", line 971, in __init__\n",
      "    self._execute_child(args, executable, preexec_fn, close_fds,\n",
      "  File \"c:\\Users\\noams\\anaconda3\\envs\\knn_env\\lib\\subprocess.py\", line 1456, in _execute_child\n",
      "    hp, ht, pid, tid = _winapi.CreateProcess(executable, args,\n"
     ]
    },
    {
     "name": "stdout",
     "output_type": "stream",
     "text": [
      "Test Accuracy: 0.8289\n"
     ]
    }
   ],
   "source": [
    "\n",
    "if __name__ == \"__main__\":\n",
    "    x_train, y_train, x_test, y_test = preprocess_data()\n",
    "    knn_model = train_knn(x_train, y_train, k=3)\n",
    "    evaluate_model(knn_model, x_test, y_test)\n"
   ]
  },
  {
   "cell_type": "code",
   "execution_count": null,
   "metadata": {},
   "outputs": [],
   "source": []
  }
 ],
 "metadata": {
  "kernelspec": {
   "display_name": "knn_env",
   "language": "python",
   "name": "python3"
  },
  "language_info": {
   "codemirror_mode": {
    "name": "ipython",
    "version": 3
   },
   "file_extension": ".py",
   "mimetype": "text/x-python",
   "name": "python",
   "nbconvert_exporter": "python",
   "pygments_lexer": "ipython3",
   "version": "3.10.13"
  }
 },
 "nbformat": 4,
 "nbformat_minor": 2
}
